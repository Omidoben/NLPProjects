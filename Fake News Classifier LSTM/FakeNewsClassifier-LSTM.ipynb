{
 "cells": [
  {
   "cell_type": "markdown",
   "id": "0a262419",
   "metadata": {},
   "source": [
    "#### Objective: \n",
    "\n",
    "**Build a machine learning model to classify news articles as Fake (1) or Real (0).**\n",
    "\n",
    "The advancement in technology - which enables fast spread of information, and the rampant increase in fake news is a big challenge for many people due to the inability to differentiate fake and real news. This project aims to build an LSTM classifier that will help platforms detect fake news before spreading out to the public. "
   ]
  },
  {
   "cell_type": "code",
   "execution_count": 2,
   "id": "41a60cc3",
   "metadata": {},
   "outputs": [],
   "source": [
    "import pandas as pd\n",
    "import numpy as np"
   ]
  },
  {
   "cell_type": "code",
   "execution_count": 3,
   "id": "e99443a6",
   "metadata": {},
   "outputs": [
    {
     "data": {
      "text/html": [
       "<div>\n",
       "<style scoped>\n",
       "    .dataframe tbody tr th:only-of-type {\n",
       "        vertical-align: middle;\n",
       "    }\n",
       "\n",
       "    .dataframe tbody tr th {\n",
       "        vertical-align: top;\n",
       "    }\n",
       "\n",
       "    .dataframe thead th {\n",
       "        text-align: right;\n",
       "    }\n",
       "</style>\n",
       "<table border=\"1\" class=\"dataframe\">\n",
       "  <thead>\n",
       "    <tr style=\"text-align: right;\">\n",
       "      <th></th>\n",
       "      <th>id</th>\n",
       "      <th>title</th>\n",
       "      <th>author</th>\n",
       "      <th>text</th>\n",
       "      <th>label</th>\n",
       "    </tr>\n",
       "  </thead>\n",
       "  <tbody>\n",
       "    <tr>\n",
       "      <th>0</th>\n",
       "      <td>0</td>\n",
       "      <td>House Dem Aide: We Didn’t Even See Comey’s Let...</td>\n",
       "      <td>Darrell Lucus</td>\n",
       "      <td>House Dem Aide: We Didn’t Even See Comey’s Let...</td>\n",
       "      <td>1</td>\n",
       "    </tr>\n",
       "    <tr>\n",
       "      <th>1</th>\n",
       "      <td>1</td>\n",
       "      <td>FLYNN: Hillary Clinton, Big Woman on Campus - ...</td>\n",
       "      <td>Daniel J. Flynn</td>\n",
       "      <td>Ever get the feeling your life circles the rou...</td>\n",
       "      <td>0</td>\n",
       "    </tr>\n",
       "    <tr>\n",
       "      <th>2</th>\n",
       "      <td>2</td>\n",
       "      <td>Why the Truth Might Get You Fired</td>\n",
       "      <td>Consortiumnews.com</td>\n",
       "      <td>Why the Truth Might Get You Fired October 29, ...</td>\n",
       "      <td>1</td>\n",
       "    </tr>\n",
       "    <tr>\n",
       "      <th>3</th>\n",
       "      <td>3</td>\n",
       "      <td>15 Civilians Killed In Single US Airstrike Hav...</td>\n",
       "      <td>Jessica Purkiss</td>\n",
       "      <td>Videos 15 Civilians Killed In Single US Airstr...</td>\n",
       "      <td>1</td>\n",
       "    </tr>\n",
       "    <tr>\n",
       "      <th>4</th>\n",
       "      <td>4</td>\n",
       "      <td>Iranian woman jailed for fictional unpublished...</td>\n",
       "      <td>Howard Portnoy</td>\n",
       "      <td>Print \\nAn Iranian woman has been sentenced to...</td>\n",
       "      <td>1</td>\n",
       "    </tr>\n",
       "  </tbody>\n",
       "</table>\n",
       "</div>"
      ],
      "text/plain": [
       "   id                                              title              author  \\\n",
       "0   0  House Dem Aide: We Didn’t Even See Comey’s Let...       Darrell Lucus   \n",
       "1   1  FLYNN: Hillary Clinton, Big Woman on Campus - ...     Daniel J. Flynn   \n",
       "2   2                  Why the Truth Might Get You Fired  Consortiumnews.com   \n",
       "3   3  15 Civilians Killed In Single US Airstrike Hav...     Jessica Purkiss   \n",
       "4   4  Iranian woman jailed for fictional unpublished...      Howard Portnoy   \n",
       "\n",
       "                                                text  label  \n",
       "0  House Dem Aide: We Didn’t Even See Comey’s Let...      1  \n",
       "1  Ever get the feeling your life circles the rou...      0  \n",
       "2  Why the Truth Might Get You Fired October 29, ...      1  \n",
       "3  Videos 15 Civilians Killed In Single US Airstr...      1  \n",
       "4  Print \\nAn Iranian woman has been sentenced to...      1  "
      ]
     },
     "execution_count": 3,
     "metadata": {},
     "output_type": "execute_result"
    }
   ],
   "source": [
    "# Load the train data\n",
    "df = pd.read_csv(\"fake_news_train.csv\")\n",
    "df.head()"
   ]
  },
  {
   "cell_type": "code",
   "execution_count": 4,
   "id": "245d2ca5",
   "metadata": {},
   "outputs": [
    {
     "name": "stdout",
     "output_type": "stream",
     "text": [
      "<class 'pandas.core.frame.DataFrame'>\n",
      "RangeIndex: 20800 entries, 0 to 20799\n",
      "Data columns (total 5 columns):\n",
      " #   Column  Non-Null Count  Dtype \n",
      "---  ------  --------------  ----- \n",
      " 0   id      20800 non-null  int64 \n",
      " 1   title   20242 non-null  object\n",
      " 2   author  18843 non-null  object\n",
      " 3   text    20761 non-null  object\n",
      " 4   label   20800 non-null  int64 \n",
      "dtypes: int64(2), object(3)\n",
      "memory usage: 812.6+ KB\n",
      "None\n"
     ]
    }
   ],
   "source": [
    "# Basic exploration\n",
    "print(df.info())     # data contains 5 features with 20,799 rows"
   ]
  },
  {
   "cell_type": "code",
   "execution_count": 5,
   "id": "0c25aeba",
   "metadata": {},
   "outputs": [
    {
     "name": "stdout",
     "output_type": "stream",
     "text": [
      "877                                       WWN’s Horoscopes\n",
      "12376    Mainstream Media Calls Real News “Fake” Becaus...\n",
      "555                                                    NaN\n",
      "Name: title, dtype: object\n",
      "3352     Review: ‘Café Society’ Isn’t Woody Allen’s Wor...\n",
      "20025    Emmy Nominations 2016: ‘Game of Thrones’ Rules...\n",
      "14717    Whitney Houston, Cher, Tina Turner and Donna S...\n",
      "Name: title, dtype: object\n"
     ]
    }
   ],
   "source": [
    "print(df[df['label'] == 1].sample(3)['title'])\n",
    "print(df[df['label'] == 0].sample(3)['title'])"
   ]
  },
  {
   "cell_type": "code",
   "execution_count": 6,
   "id": "461ca625",
   "metadata": {},
   "outputs": [
    {
     "name": "stdout",
     "output_type": "stream",
     "text": [
      "title : 2.68 % missing values\n",
      "author : 9.41 % missing values\n",
      "text : 0.19 % missing values\n"
     ]
    }
   ],
   "source": [
    "# Missing values\n",
    "features_with_na = [feature for feature in df.columns if df[feature].isnull().sum()>1]\n",
    "\n",
    "for feature in features_with_na:\n",
    "    print(feature, \":\", np.round(df[feature].isnull().mean(), 4) * 100, \"% missing values\")\n",
    "\n",
    "# Three features contain missing values: title, author, and text"
   ]
  },
  {
   "cell_type": "markdown",
   "id": "3ba7475a",
   "metadata": {},
   "source": [
    "    Since we are working on text data, and we aim to use title to predict whether news is fake or real, we can't replace the missing values, thus we drop them."
   ]
  },
  {
   "cell_type": "code",
   "execution_count": 7,
   "id": "e1bac0cd",
   "metadata": {},
   "outputs": [],
   "source": [
    "# Drop nan values\n",
    "df = df.dropna()"
   ]
  },
  {
   "cell_type": "code",
   "execution_count": 8,
   "id": "ff1b1717",
   "metadata": {},
   "outputs": [],
   "source": [
    "# Reset the index\n",
    "messages = df.copy()\n",
    "messages.reset_index(inplace=True)"
   ]
  },
  {
   "cell_type": "code",
   "execution_count": 8,
   "id": "05be3cb5",
   "metadata": {},
   "outputs": [
    {
     "data": {
      "text/html": [
       "<div>\n",
       "<style scoped>\n",
       "    .dataframe tbody tr th:only-of-type {\n",
       "        vertical-align: middle;\n",
       "    }\n",
       "\n",
       "    .dataframe tbody tr th {\n",
       "        vertical-align: top;\n",
       "    }\n",
       "\n",
       "    .dataframe thead th {\n",
       "        text-align: right;\n",
       "    }\n",
       "</style>\n",
       "<table border=\"1\" class=\"dataframe\">\n",
       "  <thead>\n",
       "    <tr style=\"text-align: right;\">\n",
       "      <th></th>\n",
       "      <th>index</th>\n",
       "      <th>id</th>\n",
       "      <th>title</th>\n",
       "      <th>author</th>\n",
       "      <th>text</th>\n",
       "      <th>label</th>\n",
       "    </tr>\n",
       "  </thead>\n",
       "  <tbody>\n",
       "    <tr>\n",
       "      <th>0</th>\n",
       "      <td>0</td>\n",
       "      <td>0</td>\n",
       "      <td>House Dem Aide: We Didn’t Even See Comey’s Let...</td>\n",
       "      <td>Darrell Lucus</td>\n",
       "      <td>House Dem Aide: We Didn’t Even See Comey’s Let...</td>\n",
       "      <td>1</td>\n",
       "    </tr>\n",
       "    <tr>\n",
       "      <th>1</th>\n",
       "      <td>1</td>\n",
       "      <td>1</td>\n",
       "      <td>FLYNN: Hillary Clinton, Big Woman on Campus - ...</td>\n",
       "      <td>Daniel J. Flynn</td>\n",
       "      <td>Ever get the feeling your life circles the rou...</td>\n",
       "      <td>0</td>\n",
       "    </tr>\n",
       "    <tr>\n",
       "      <th>2</th>\n",
       "      <td>2</td>\n",
       "      <td>2</td>\n",
       "      <td>Why the Truth Might Get You Fired</td>\n",
       "      <td>Consortiumnews.com</td>\n",
       "      <td>Why the Truth Might Get You Fired October 29, ...</td>\n",
       "      <td>1</td>\n",
       "    </tr>\n",
       "    <tr>\n",
       "      <th>3</th>\n",
       "      <td>3</td>\n",
       "      <td>3</td>\n",
       "      <td>15 Civilians Killed In Single US Airstrike Hav...</td>\n",
       "      <td>Jessica Purkiss</td>\n",
       "      <td>Videos 15 Civilians Killed In Single US Airstr...</td>\n",
       "      <td>1</td>\n",
       "    </tr>\n",
       "    <tr>\n",
       "      <th>4</th>\n",
       "      <td>4</td>\n",
       "      <td>4</td>\n",
       "      <td>Iranian woman jailed for fictional unpublished...</td>\n",
       "      <td>Howard Portnoy</td>\n",
       "      <td>Print \\nAn Iranian woman has been sentenced to...</td>\n",
       "      <td>1</td>\n",
       "    </tr>\n",
       "    <tr>\n",
       "      <th>5</th>\n",
       "      <td>5</td>\n",
       "      <td>5</td>\n",
       "      <td>Jackie Mason: Hollywood Would Love Trump if He...</td>\n",
       "      <td>Daniel Nussbaum</td>\n",
       "      <td>In these trying times, Jackie Mason is the Voi...</td>\n",
       "      <td>0</td>\n",
       "    </tr>\n",
       "    <tr>\n",
       "      <th>6</th>\n",
       "      <td>7</td>\n",
       "      <td>7</td>\n",
       "      <td>Benoît Hamon Wins French Socialist Party’s Pre...</td>\n",
       "      <td>Alissa J. Rubin</td>\n",
       "      <td>PARIS  —   France chose an idealistic, traditi...</td>\n",
       "      <td>0</td>\n",
       "    </tr>\n",
       "    <tr>\n",
       "      <th>7</th>\n",
       "      <td>9</td>\n",
       "      <td>9</td>\n",
       "      <td>A Back-Channel Plan for Ukraine and Russia, Co...</td>\n",
       "      <td>Megan Twohey and Scott Shane</td>\n",
       "      <td>A week before Michael T. Flynn resigned as nat...</td>\n",
       "      <td>0</td>\n",
       "    </tr>\n",
       "    <tr>\n",
       "      <th>8</th>\n",
       "      <td>10</td>\n",
       "      <td>10</td>\n",
       "      <td>Obama’s Organizing for Action Partners with So...</td>\n",
       "      <td>Aaron Klein</td>\n",
       "      <td>Organizing for Action, the activist group that...</td>\n",
       "      <td>0</td>\n",
       "    </tr>\n",
       "    <tr>\n",
       "      <th>9</th>\n",
       "      <td>11</td>\n",
       "      <td>11</td>\n",
       "      <td>BBC Comedy Sketch \"Real Housewives of ISIS\" Ca...</td>\n",
       "      <td>Chris Tomlinson</td>\n",
       "      <td>The BBC produced spoof on the “Real Housewives...</td>\n",
       "      <td>0</td>\n",
       "    </tr>\n",
       "  </tbody>\n",
       "</table>\n",
       "</div>"
      ],
      "text/plain": [
       "   index  id                                              title  \\\n",
       "0      0   0  House Dem Aide: We Didn’t Even See Comey’s Let...   \n",
       "1      1   1  FLYNN: Hillary Clinton, Big Woman on Campus - ...   \n",
       "2      2   2                  Why the Truth Might Get You Fired   \n",
       "3      3   3  15 Civilians Killed In Single US Airstrike Hav...   \n",
       "4      4   4  Iranian woman jailed for fictional unpublished...   \n",
       "5      5   5  Jackie Mason: Hollywood Would Love Trump if He...   \n",
       "6      7   7  Benoît Hamon Wins French Socialist Party’s Pre...   \n",
       "7      9   9  A Back-Channel Plan for Ukraine and Russia, Co...   \n",
       "8     10  10  Obama’s Organizing for Action Partners with So...   \n",
       "9     11  11  BBC Comedy Sketch \"Real Housewives of ISIS\" Ca...   \n",
       "\n",
       "                         author  \\\n",
       "0                 Darrell Lucus   \n",
       "1               Daniel J. Flynn   \n",
       "2            Consortiumnews.com   \n",
       "3               Jessica Purkiss   \n",
       "4                Howard Portnoy   \n",
       "5               Daniel Nussbaum   \n",
       "6               Alissa J. Rubin   \n",
       "7  Megan Twohey and Scott Shane   \n",
       "8                   Aaron Klein   \n",
       "9               Chris Tomlinson   \n",
       "\n",
       "                                                text  label  \n",
       "0  House Dem Aide: We Didn’t Even See Comey’s Let...      1  \n",
       "1  Ever get the feeling your life circles the rou...      0  \n",
       "2  Why the Truth Might Get You Fired October 29, ...      1  \n",
       "3  Videos 15 Civilians Killed In Single US Airstr...      1  \n",
       "4  Print \\nAn Iranian woman has been sentenced to...      1  \n",
       "5  In these trying times, Jackie Mason is the Voi...      0  \n",
       "6  PARIS  —   France chose an idealistic, traditi...      0  \n",
       "7  A week before Michael T. Flynn resigned as nat...      0  \n",
       "8  Organizing for Action, the activist group that...      0  \n",
       "9  The BBC produced spoof on the “Real Housewives...      0  "
      ]
     },
     "execution_count": 8,
     "metadata": {},
     "output_type": "execute_result"
    }
   ],
   "source": [
    "messages.head(10)"
   ]
  },
  {
   "cell_type": "code",
   "execution_count": 11,
   "id": "f98636de",
   "metadata": {},
   "outputs": [],
   "source": [
    "# Get independent features\n",
    "X = df.drop(\"label\", axis=1)"
   ]
  },
  {
   "cell_type": "code",
   "execution_count": 9,
   "id": "a8631fdd",
   "metadata": {},
   "outputs": [],
   "source": [
    "# Dependent feature\n",
    "y = df[\"label\"]"
   ]
  },
  {
   "cell_type": "code",
   "execution_count": 12,
   "id": "e3955c2b",
   "metadata": {},
   "outputs": [
    {
     "name": "stdout",
     "output_type": "stream",
     "text": [
      "(18285, 4)\n",
      "(18285,)\n"
     ]
    }
   ],
   "source": [
    "print(X.shape)\n",
    "print(y.shape)"
   ]
  },
  {
   "cell_type": "code",
   "execution_count": 13,
   "id": "1ad0c4d9",
   "metadata": {},
   "outputs": [],
   "source": [
    "# Data Preprocessing\n",
    "import nltk\n",
    "import re\n",
    "from nltk.corpus import stopwords\n",
    "from nltk.tokenize import word_tokenize\n",
    "from nltk.stem import WordNetLemmatizer"
   ]
  },
  {
   "cell_type": "code",
   "execution_count": 14,
   "id": "0e8080f7",
   "metadata": {},
   "outputs": [],
   "source": [
    "lemmatizer = WordNetLemmatizer()\n",
    "stop_words = set(stopwords.words(\"english\"))\n",
    "corpus = []\n",
    "\n",
    "for i in range(0, len(messages)):\n",
    "    title = re.sub(\"[^a-zA-Z]\", \" \", messages[\"title\"][i])\n",
    "    title = title.lower()\n",
    "    title = re.sub(r'http\\S+|www\\S+|https\\S+', '', title)     # Remove punctuation\n",
    "    title = re.sub(r'http\\S+|www\\S+|https\\S+', '', title)        # Remove URLs\n",
    "    title = re.sub(r'@\\w+|#\\w+', '', title)       # Remove mentions and hashtags\n",
    "    title = re.sub(r'\\d+', '', title)           # Remove numbers\n",
    "    title = re.sub(r'\\s+', ' ', title).strip()     # Remove extra whitespace\n",
    "    tokens = word_tokenize(title)\n",
    "    \n",
    "    tokens = [lemmatizer.lemmatize(word) for word in tokens if word not in stop_words]\n",
    "    cleaned_text = \" \".join(tokens)\n",
    "    corpus.append(cleaned_text)"
   ]
  },
  {
   "cell_type": "code",
   "execution_count": 15,
   "id": "d37f484c",
   "metadata": {},
   "outputs": [
    {
     "data": {
      "text/plain": [
       "['house dem aide even see comey letter jason chaffetz tweeted',\n",
       " 'flynn hillary clinton big woman campus breitbart',\n",
       " 'truth might get fired',\n",
       " 'civilian killed single u airstrike identified',\n",
       " 'iranian woman jailed fictional unpublished story woman stoned death adultery']"
      ]
     },
     "execution_count": 15,
     "metadata": {},
     "output_type": "execute_result"
    }
   ],
   "source": [
    "corpus[:5]"
   ]
  },
  {
   "cell_type": "markdown",
   "id": "00d5c728",
   "metadata": {},
   "source": [
    "**Count Word Frequencies - Helps to identify the most common words**"
   ]
  },
  {
   "cell_type": "code",
   "execution_count": 16,
   "id": "8dbdf3f8",
   "metadata": {},
   "outputs": [
    {
     "name": "stdout",
     "output_type": "stream",
     "text": [
      "[('new', 7024), ('time', 6478), ('york', 6342), ('trump', 3493), ('breitbart', 2402), ('hillary', 1123), ('clinton', 1120), ('u', 993), ('donald', 840), ('election', 584)]\n"
     ]
    }
   ],
   "source": [
    "from collections import Counter\n",
    "\n",
    "# Tokenize all words in corpus\n",
    "all_words = ' '.join(corpus).split()\n",
    "word_freq = Counter(all_words)\n",
    "print(word_freq.most_common(10))"
   ]
  },
  {
   "cell_type": "markdown",
   "id": "816adc96",
   "metadata": {},
   "source": [
    "**Distribution of word count per sentence**"
   ]
  },
  {
   "cell_type": "code",
   "execution_count": 17,
   "id": "22e7e64d",
   "metadata": {},
   "outputs": [
    {
     "name": "stdout",
     "output_type": "stream",
     "text": [
      "[10, 7, 4, 6, 10]\n"
     ]
    }
   ],
   "source": [
    "# Count number of words per sentence\n",
    "word_counts = [len(sentence.split()) for sentence in corpus]\n",
    "print(word_counts[:5])"
   ]
  },
  {
   "cell_type": "code",
   "execution_count": 18,
   "id": "beb38b6f",
   "metadata": {},
   "outputs": [
    {
     "data": {
      "image/png": "[encoded data removed]",
      "text/plain": [
       "<Figure size 800x500 with 1 Axes>"
      ]
     },
     "metadata": {},
     "output_type": "display_data"
    }
   ],
   "source": [
    "import matplotlib.pyplot as plt\n",
    "import seaborn as sns\n",
    "\n",
    "plt.figure(figsize=(8, 5))\n",
    "plt.hist(word_counts)\n",
    "plt.title('Distribution of Word Count per Sentence')\n",
    "plt.xlabel('Number of Words')\n",
    "plt.ylabel('Number of Sentences')\n",
    "plt.grid(axis='y', linestyle='--', alpha=0.7)\n",
    "plt.show()"
   ]
  },
  {
   "cell_type": "markdown",
   "id": "63f24085",
   "metadata": {},
   "source": [
    "    Above histogram shows that majority of the titles have a length between 5-15 words. With only a few words extending beyond 20"
   ]
  },
  {
   "cell_type": "code",
   "execution_count": null,
   "id": "0216e7c6",
   "metadata": {},
   "outputs": [],
   "source": [
    "# Import tensorflow\n",
    "import tensorflow as tf\n",
    "print(tf.__version__)"
   ]
  },
  {
   "cell_type": "code",
   "execution_count": 21,
   "id": "da0617ef",
   "metadata": {},
   "outputs": [],
   "source": [
    "from tensorflow.keras.models import Sequential\n",
    "from tensorflow.keras.layers import Embedding, LSTM, Dense, Dropout\n",
    "from tensorflow.keras.preprocessing.text import one_hot\n",
    "from tensorflow.keras.preprocessing.sequence import pad_sequences\n",
    "from tensorflow.keras.callbacks import EarlyStopping\n",
    "from sklearn.model_selection import KFold, train_test_split\n",
    "from tensorflow.keras.regularizers import l2"
   ]
  },
  {
   "cell_type": "code",
   "execution_count": 24,
   "id": "a1ead830",
   "metadata": {},
   "outputs": [],
   "source": [
    "# Define the vocabulary size, maximum sentence length, and word dimension\n",
    "vocab_size = 5000\n",
    "sent_length = 20\n",
    "feature_dim = 32  "
   ]
  },
  {
   "cell_type": "code",
   "execution_count": 22,
   "id": "287c5aed",
   "metadata": {},
   "outputs": [],
   "source": [
    "# Apply one hot representation on the corpus\n",
    "one_hot_repr = [one_hot(sentence, vocab_size) for sentence in corpus]"
   ]
  },
  {
   "cell_type": "code",
   "execution_count": 23,
   "id": "55115b41",
   "metadata": {},
   "outputs": [
    {
     "data": {
      "text/plain": [
       "[[2445, 3112, 1931, 1070, 3710, 993, 3273, 4543, 2528, 2420],\n",
       " [2973, 279, 3289, 1814, 1952, 3335, 1714],\n",
       " [1266, 92, 2678, 3930],\n",
       " [1420, 2954, 1346, 2249, 3767, 2004],\n",
       " [795, 1952, 3627, 2266, 3744, 2248, 1952, 2935, 3133, 2357]]"
      ]
     },
     "execution_count": 23,
     "metadata": {},
     "output_type": "execute_result"
    }
   ],
   "source": [
    "one_hot_repr[:5]"
   ]
  },
  {
   "cell_type": "code",
   "execution_count": 25,
   "id": "f34c9125",
   "metadata": {},
   "outputs": [
    {
     "data": {
      "text/plain": [
       "array([[   0,    0,    0,    0,    0,    0,    0,    0,    0,    0, 2445,\n",
       "        3112, 1931, 1070, 3710,  993, 3273, 4543, 2528, 2420],\n",
       "       [   0,    0,    0,    0,    0,    0,    0,    0,    0,    0,    0,\n",
       "           0,    0, 2973,  279, 3289, 1814, 1952, 3335, 1714],\n",
       "       [   0,    0,    0,    0,    0,    0,    0,    0,    0,    0,    0,\n",
       "           0,    0,    0,    0,    0, 1266,   92, 2678, 3930],\n",
       "       [   0,    0,    0,    0,    0,    0,    0,    0,    0,    0,    0,\n",
       "           0,    0,    0, 1420, 2954, 1346, 2249, 3767, 2004],\n",
       "       [   0,    0,    0,    0,    0,    0,    0,    0,    0,    0,  795,\n",
       "        1952, 3627, 2266, 3744, 2248, 1952, 2935, 3133, 2357]])"
      ]
     },
     "execution_count": 25,
     "metadata": {},
     "output_type": "execute_result"
    }
   ],
   "source": [
    "# Embedding Representation - First apply padding to ensure sentence uniformity\n",
    "embedded_docs = pad_sequences(one_hot_repr, padding=\"pre\", maxlen=sent_length)\n",
    "embedded_docs[:5]"
   ]
  },
  {
   "cell_type": "code",
   "execution_count": 26,
   "id": "56f47e55",
   "metadata": {},
   "outputs": [],
   "source": [
    "X_final = np.array(embedded_docs) \n",
    "y_final = np.array(y)"
   ]
  },
  {
   "cell_type": "code",
   "execution_count": 27,
   "id": "b81553d4",
   "metadata": {},
   "outputs": [],
   "source": [
    "# Function to create the LSTM model\n",
    "def lstm_model():\n",
    "    model = Sequential()\n",
    "    \n",
    "    # 1st layer\n",
    "    model.add(Embedding(vocab_size, feature_dim, input_length=sent_length)) \n",
    "    model.add(LSTM(64, kernel_regularizer=l2(0.001), recurrent_regularizer=l2(0.001), return_sequences=True))\n",
    "    model.add(Dropout(0.3))\n",
    "    \n",
    "    # Second LSTM layer\n",
    "    model.add(LSTM(32, kernel_regularizer=l2(0.001)))\n",
    "    model.add(Dropout(0.3))\n",
    "    \n",
    "    # Output layer\n",
    "    model.add(Dense(1, activation=\"sigmoid\"))\n",
    "    \n",
    "    # Compile model\n",
    "    model.compile(loss=\"binary_crossentropy\", \n",
    "                  optimizer=\"adam\", \n",
    "                  metrics=[\"accuracy\"])\n",
    "    \n",
    "    return model"
   ]
  },
  {
   "cell_type": "code",
   "execution_count": 28,
   "id": "beee4e3b",
   "metadata": {},
   "outputs": [],
   "source": [
    "X_train, X_test, y_train, y_test = train_test_split(X_final, y_final, \n",
    "                                                    test_size=0.3, \n",
    "                                                    random_state=42)"
   ]
  },
  {
   "cell_type": "code",
   "execution_count": 29,
   "id": "c29ae5b9",
   "metadata": {},
   "outputs": [
    {
     "name": "stdout",
     "output_type": "stream",
     "text": [
      "Model: \"sequential\"\n",
      "_________________________________________________________________\n",
      " Layer (type)                Output Shape              Param #   \n",
      "=================================================================\n",
      " embedding (Embedding)       (None, 20, 32)            160000    \n",
      "                                                                 \n",
      " lstm (LSTM)                 (None, 20, 64)            24832     \n",
      "                                                                 \n",
      " dropout (Dropout)           (None, 20, 64)            0         \n",
      "                                                                 \n",
      " lstm_1 (LSTM)               (None, 32)                12416     \n",
      "                                                                 \n",
      " dropout_1 (Dropout)         (None, 32)                0         \n",
      "                                                                 \n",
      " dense (Dense)               (None, 1)                 33        \n",
      "                                                                 \n",
      "=================================================================\n",
      "Total params: 197,281\n",
      "Trainable params: 197,281\n",
      "Non-trainable params: 0\n",
      "_________________________________________________________________\n",
      "None\n"
     ]
    }
   ],
   "source": [
    "# Create model\n",
    "model = lstm_model()\n",
    "print(model.summary())"
   ]
  },
  {
   "cell_type": "code",
   "execution_count": 30,
   "id": "32c9f35d",
   "metadata": {},
   "outputs": [],
   "source": [
    "# Early stopping to prevent overfitting\n",
    "early_stopping = EarlyStopping(\n",
    "    monitor='val_loss',\n",
    "    patience=3,\n",
    "    restore_best_weights=True,\n",
    "    verbose=1\n",
    ")"
   ]
  },
  {
   "cell_type": "code",
   "execution_count": 31,
   "id": "f8a3f7f7",
   "metadata": {},
   "outputs": [
    {
     "name": "stdout",
     "output_type": "stream",
     "text": [
      "Epoch 1/20\n",
      "200/200 [==============================] - 22s 63ms/step - loss: 0.4713 - accuracy: 0.8123 - val_loss: 0.2600 - val_accuracy: 0.9141\n",
      "Epoch 2/20\n",
      "200/200 [==============================] - 11s 53ms/step - loss: 0.1957 - accuracy: 0.9391 - val_loss: 0.2323 - val_accuracy: 0.9167\n",
      "Epoch 3/20\n",
      "200/200 [==============================] - 13s 63ms/step - loss: 0.1423 - accuracy: 0.9610 - val_loss: 0.2448 - val_accuracy: 0.9129\n",
      "Epoch 4/20\n",
      "200/200 [==============================] - 13s 65ms/step - loss: 0.1054 - accuracy: 0.9725 - val_loss: 0.3083 - val_accuracy: 0.9123\n",
      "Epoch 5/20\n",
      "200/200 [==============================] - ETA: 0s - loss: 0.0825 - accuracy: 0.9802Restoring model weights from the end of the best epoch: 2.\n",
      "200/200 [==============================] - 13s 66ms/step - loss: 0.0825 - accuracy: 0.9802 - val_loss: 0.2975 - val_accuracy: 0.9100\n",
      "Epoch 5: early stopping\n"
     ]
    }
   ],
   "source": [
    "# Train the model\n",
    "history = model.fit(X_train, y_train, \n",
    "                    validation_data=(X_test, y_test), \n",
    "                    epochs=20,  \n",
    "                    batch_size=64,\n",
    "                    callbacks=[early_stopping])"
   ]
  },
  {
   "cell_type": "code",
   "execution_count": 32,
   "id": "f62cc6e0",
   "metadata": {},
   "outputs": [
    {
     "name": "stdout",
     "output_type": "stream",
     "text": [
      "172/172 [==============================] - 3s 17ms/step - loss: 0.2323 - accuracy: 0.9167\n",
      "Test Loss: 0.2323\n",
      "Test Accuracy: 0.9167\n"
     ]
    }
   ],
   "source": [
    "# Evaluate the model\n",
    "loss, accuracy = model.evaluate(X_test, y_test)\n",
    "print(f\"Test Loss: {loss:.4f}\")\n",
    "print(f\"Test Accuracy: {accuracy:.4f}\")"
   ]
  },
  {
   "cell_type": "code",
   "execution_count": 33,
   "id": "9910b24d",
   "metadata": {},
   "outputs": [
    {
     "data": {
      "image/png": "[encoded data removed]",
      "text/plain": [
       "<Figure size 1200x500 with 2 Axes>"
      ]
     },
     "metadata": {},
     "output_type": "display_data"
    }
   ],
   "source": [
    "# Plot training & validation accuracy values\n",
    "plt.figure(figsize=(12, 5))\n",
    "plt.subplot(1, 2, 1)\n",
    "plt.plot(history.history['accuracy'])\n",
    "plt.plot(history.history['val_accuracy'])\n",
    "plt.title('Model accuracy')\n",
    "plt.ylabel('Accuracy')\n",
    "plt.xlabel('Epoch')\n",
    "plt.legend(['Train', 'Validation'], loc='upper left')\n",
    "\n",
    "# Plot training & validation loss values\n",
    "plt.subplot(1, 2, 2)\n",
    "plt.plot(history.history['loss'])\n",
    "plt.plot(history.history['val_loss'])\n",
    "plt.title('Model loss')\n",
    "plt.ylabel('Loss')\n",
    "plt.xlabel('Epoch')\n",
    "plt.legend(['Train', 'Validation'], loc='upper left')\n",
    "plt.tight_layout()\n",
    "plt.show()"
   ]
  },
  {
   "cell_type": "markdown",
   "id": "84f53f17",
   "metadata": {},
   "source": [
    "    We can also perform cross fold validation to assess model performance before evaluating it on the test set."
   ]
  },
  {
   "cell_type": "code",
   "execution_count": 55,
   "id": "b8535702",
   "metadata": {},
   "outputs": [
    {
     "name": "stdout",
     "output_type": "stream",
     "text": [
      "Fold 1: Loss = 0.4810, Accuracy = 0.8983\n",
      "Fold 2: Loss = 0.4011, Accuracy = 0.9032\n",
      "Fold 3: Loss = 0.4161, Accuracy = 0.9062\n",
      "Fold 4: Loss = 0.3824, Accuracy = 0.9076\n",
      "Fold 5: Loss = 0.4132, Accuracy = 0.9119\n",
      "\n",
      "Average scores:\n",
      "Loss: 0.4188\n",
      "Accuracy: 0.9054\n"
     ]
    }
   ],
   "source": [
    "def perform_kfold_validation(X, y, n_splits=5):\n",
    "    kfold = KFold(n_splits=n_splits, shuffle=True, random_state=42)\n",
    "    fold_no = 1\n",
    "    acc_per_fold = []\n",
    "    loss_per_fold = []\n",
    "    \n",
    "    for train_idx, test_idx in kfold.split(X, y):\n",
    "        # Create and compile model\n",
    "        model = lstm_model()\n",
    "        \n",
    "        # Train model\n",
    "        model.fit(X[train_idx], y[train_idx], \n",
    "                  epochs=10, \n",
    "                  batch_size=64, \n",
    "                  verbose=0)\n",
    "        \n",
    "        # Evaluate model\n",
    "        scores = model.evaluate(X[test_idx], y[test_idx], verbose=0)\n",
    "        print(f'Fold {fold_no}: Loss = {scores[0]:.4f}, Accuracy = {scores[1]:.4f}')\n",
    "        \n",
    "        acc_per_fold.append(scores[1])\n",
    "        loss_per_fold.append(scores[0])\n",
    "        \n",
    "        fold_no += 1\n",
    "    \n",
    "    # Print average scores\n",
    "    print('\\nAverage scores:')\n",
    "    print(f'Loss: {np.mean(loss_per_fold):.4f}')\n",
    "    print(f'Accuracy: {np.mean(acc_per_fold):.4f}')\n",
    "    \n",
    "    return np.mean(acc_per_fold), np.mean(loss_per_fold)\n",
    "\n",
    "# Uncomment to run k-fold validation (may take some time)\n",
    "kfold_acc, kfold_loss = perform_kfold_validation(X_final, y_final)"
   ]
  }
 ],
 "metadata": {
  "kernelspec": {
   "display_name": "Python (TensorFlow)",
   "language": "python",
   "name": "tf-env"
  },
  "language_info": {
   "codemirror_mode": {
    "name": "ipython",
    "version": 3
   },
   "file_extension": ".py",
   "mimetype": "text/x-python",
   "name": "python",
   "nbconvert_exporter": "python",
   "pygments_lexer": "ipython3",
   "version": "3.10.13"
  }
 },
 "nbformat": 4,
 "nbformat_minor": 5
}
